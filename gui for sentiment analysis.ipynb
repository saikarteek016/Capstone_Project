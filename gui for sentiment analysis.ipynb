{
 "cells": [
  {
   "cell_type": "code",
   "execution_count": null,
   "id": "1f5aabdf",
   "metadata": {},
   "outputs": [],
   "source": [
    "from vaderSentiment.vaderSentiment import SentimentIntensityAnalyzer\n",
    "\n",
    "from tkinter import *\n",
    "\n",
    "def clearAll() :\n",
    "    negativeField.delete(0, END)\n",
    "    neutralField.delete(0, END)\n",
    "    positiveField.delete(0, END)\n",
    "    overallField.delete(0, END)\n",
    "    textArea.delete(1.0, END)\n",
    "\n",
    "def detect_sentiment():\n",
    "    sentence = textArea.get(\"1.0\", \"end\")\n",
    "    sid_obj = SentimentIntensityAnalyzer()\n",
    "    sentiment_dict = sid_obj.polarity_scores(sentence)\n",
    "    string = str(sentiment_dict['neg']*100) + \"% Negative\"\n",
    "    negativeField.insert(10, string)\n",
    "    string = str(sentiment_dict['neu']*100) + \"% Neutral\"\n",
    "    neutralField.insert(10, string)\n",
    "    string = str(sentiment_dict['pos']*100) +\"% Positive\"\n",
    "    positiveField.insert(10, string)\n",
    "\n",
    "    if sentiment_dict['compound'] >= 0.05 :\n",
    "        string = \"Positive\"\n",
    "    elif sentiment_dict['compound'] <= - 0.05 :\n",
    "        string = \"Negative\"\n",
    "    else :\n",
    "        string = \"Neutral\"\n",
    "    overallField.insert(10, string)\n",
    "\n",
    "if __name__ == \"__main__\" :\n",
    "    gui = Tk()\n",
    "    gui.config(background =  \"light green\")\n",
    "    gui.title(\"Sentiment Detector\")\n",
    "    gui.geometry(\"250x400\")\n",
    "    enterText = Label(gui, text = \"Enter Your Sentence\",bg = \"light green\")\n",
    "\n",
    "    textArea = Text(gui, height = 5, width = 25, font = \"lucida 13\")\n",
    " \n",
    "    check = Button(gui, text = \"Check Sentiment\", fg = \"Black\",bg = \"Red\", command = detect_sentiment)\n",
    "    negative = Label(gui, text = \"sentence was rated as: \",bg = \"light green\")\n",
    "    neutral = Label(gui, text = \"sentence was rated as: \",bg = \"light green\")\n",
    "    positive = Label(gui, text = \"sentence was rated as: \",bg = \"light green\")\n",
    "    overall = Label(gui, text = \"Sentence Overall Rated As: \", bg = \"light green\")\n",
    "    negativeField = Entry(gui)\n",
    "    neutralField = Entry(gui)\n",
    "    positiveField = Entry(gui) \n",
    "    overallField = Entry(gui)\n",
    "    clear = Button(gui, text = \"Clear\", fg = \"Black\",bg = \"Red\", command = clearAll)\n",
    "    Exit = Button(gui, text = \"Exit\", fg = \"Black\",bg = \"Red\", command = exit)\n",
    "    enterText.grid(row = 0, column = 2)\n",
    "     \n",
    "    textArea.grid(row = 1, column = 2, padx = 10, sticky = W)\n",
    "     \n",
    "    check.grid(row = 2, column = 2)\n",
    "     \n",
    "    negative.grid(row = 3, column = 2)\n",
    "     \n",
    "    neutral.grid(row = 5, column = 2)\n",
    "     \n",
    "    positive.grid(row = 7, column = 2)\n",
    "     \n",
    "    overall.grid(row = 9, column = 2)\n",
    "     \n",
    "    negativeField.grid(row = 4, column = 2)\n",
    " \n",
    "    neutralField.grid(row = 6, column = 2)\n",
    "                       \n",
    "    positiveField.grid(row = 8, column = 2)\n",
    "     \n",
    "    overallField.grid(row = 10, column = 2)\n",
    "\n",
    "    clear.grid(row = 11, column = 2)\n",
    "     \n",
    "    Exit.grid(row = 12, column = 2)\n",
    " \n",
    "    gui.mainloop()"
   ]
  },
  {
   "cell_type": "code",
   "execution_count": 4,
   "id": "1a4479b3",
   "metadata": {},
   "outputs": [
    {
     "name": "stdout",
     "output_type": "stream",
     "text": [
      "Collecting vadersentiment\n",
      "  Downloading vaderSentiment-3.3.2-py2.py3-none-any.whl (125 kB)\n",
      "     ------------------------------------ 126.0/126.0 kB 390.9 kB/s eta 0:00:00\n",
      "Requirement already satisfied: requests in c:\\users\\hp\\anaconda3\\new_folder\\lib\\site-packages (from vadersentiment) (2.28.1)\n",
      "Requirement already satisfied: certifi>=2017.4.17 in c:\\users\\hp\\anaconda3\\new_folder\\lib\\site-packages (from requests->vadersentiment) (2022.9.14)\n",
      "Requirement already satisfied: charset-normalizer<3,>=2 in c:\\users\\hp\\anaconda3\\new_folder\\lib\\site-packages (from requests->vadersentiment) (2.0.4)\n",
      "Requirement already satisfied: urllib3<1.27,>=1.21.1 in c:\\users\\hp\\anaconda3\\new_folder\\lib\\site-packages (from requests->vadersentiment) (1.26.11)\n",
      "Requirement already satisfied: idna<4,>=2.5 in c:\\users\\hp\\anaconda3\\new_folder\\lib\\site-packages (from requests->vadersentiment) (3.3)\n",
      "Installing collected packages: vadersentiment\n",
      "Successfully installed vadersentiment-3.3.2\n"
     ]
    }
   ],
   "source": [
    "! pip install vadersentiment"
   ]
  },
  {
   "cell_type": "code",
   "execution_count": 6,
   "id": "48fd095b",
   "metadata": {},
   "outputs": [
    {
     "ename": "UnboundLocalError",
     "evalue": "local variable 'textArea' referenced before assignment",
     "output_type": "error",
     "traceback": [
      "\u001b[1;31m---------------------------------------------------------------------------\u001b[0m",
      "\u001b[1;31mUnboundLocalError\u001b[0m                         Traceback (most recent call last)",
      "\u001b[1;32m~\\AppData\\Local\\Temp\\ipykernel_14496\\2846621722.py\u001b[0m in \u001b[0;36m<module>\u001b[1;34m\u001b[0m\n\u001b[1;32m----> 1\u001b[1;33m \u001b[0mdetect_sentiment\u001b[0m\u001b[1;33m(\u001b[0m\u001b[1;33m)\u001b[0m\u001b[1;33m\u001b[0m\u001b[1;33m\u001b[0m\u001b[0m\n\u001b[0m",
      "\u001b[1;32m~\\AppData\\Local\\Temp\\ipykernel_14496\\1191870264.py\u001b[0m in \u001b[0;36mdetect_sentiment\u001b[1;34m()\u001b[0m\n\u001b[0;32m     11\u001b[0m \u001b[1;33m\u001b[0m\u001b[0m\n\u001b[0;32m     12\u001b[0m \u001b[1;32mdef\u001b[0m \u001b[0mdetect_sentiment\u001b[0m\u001b[1;33m(\u001b[0m\u001b[1;33m)\u001b[0m\u001b[1;33m:\u001b[0m\u001b[1;33m\u001b[0m\u001b[1;33m\u001b[0m\u001b[0m\n\u001b[1;32m---> 13\u001b[1;33m     \u001b[0msentence\u001b[0m \u001b[1;33m=\u001b[0m \u001b[0mtextArea\u001b[0m\u001b[1;33m.\u001b[0m\u001b[0mget\u001b[0m\u001b[1;33m(\u001b[0m\u001b[1;34m\"1.0\"\u001b[0m\u001b[1;33m,\u001b[0m \u001b[1;34m\"end\"\u001b[0m\u001b[1;33m)\u001b[0m\u001b[1;33m\u001b[0m\u001b[1;33m\u001b[0m\u001b[0m\n\u001b[0m\u001b[0;32m     14\u001b[0m     \u001b[0msid_obj\u001b[0m \u001b[1;33m=\u001b[0m \u001b[0mSentimentIntensityAnalyzer\u001b[0m\u001b[1;33m(\u001b[0m\u001b[1;33m)\u001b[0m\u001b[1;33m\u001b[0m\u001b[1;33m\u001b[0m\u001b[0m\n\u001b[0;32m     15\u001b[0m     \u001b[0msentiment_dict\u001b[0m \u001b[1;33m=\u001b[0m \u001b[0msid_obj\u001b[0m\u001b[1;33m.\u001b[0m\u001b[0mpolarity_scores\u001b[0m\u001b[1;33m(\u001b[0m\u001b[0msentence\u001b[0m\u001b[1;33m)\u001b[0m\u001b[1;33m\u001b[0m\u001b[1;33m\u001b[0m\u001b[0m\n",
      "\u001b[1;31mUnboundLocalError\u001b[0m: local variable 'textArea' referenced before assignment"
     ]
    }
   ],
   "source": [
    "detect_sentiment()"
   ]
  },
  {
   "cell_type": "code",
   "execution_count": null,
   "id": "041dccab",
   "metadata": {},
   "outputs": [],
   "source": []
  }
 ],
 "metadata": {
  "kernelspec": {
   "display_name": "Python 3 (ipykernel)",
   "language": "python",
   "name": "python3"
  },
  "language_info": {
   "codemirror_mode": {
    "name": "ipython",
    "version": 3
   },
   "file_extension": ".py",
   "mimetype": "text/x-python",
   "name": "python",
   "nbconvert_exporter": "python",
   "pygments_lexer": "ipython3",
   "version": "3.9.13"
  }
 },
 "nbformat": 4,
 "nbformat_minor": 5
}
